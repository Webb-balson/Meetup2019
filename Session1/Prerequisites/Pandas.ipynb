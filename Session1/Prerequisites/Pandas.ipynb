{
 "cells": [
  {
   "cell_type": "markdown",
   "metadata": {},
   "source": [
    "# Introduction\n",
    " One package you absolutely need to learn for data science, and it’s called pandas.\n",
    " \n",
    " Pandas is a core package plus features from a variety of other packages. And that’s great, because you can work only using pandas.\n",
    "\n",
    "pandas is like Excel in Python: it uses tables (namely DataFrame) and operates transformations on the data. But it can do a lot more."
   ]
  },
  {
   "cell_type": "markdown",
   "metadata": {},
   "source": [
    "# Elementary functions "
   ]
  },
  {
   "cell_type": "markdown",
   "metadata": {
    "heading_collapsed": true
   },
   "source": [
    "## Read"
   ]
  },
  {
   "cell_type": "code",
   "execution_count": 1,
   "metadata": {
    "ExecuteTime": {
     "end_time": "2018-09-16T10:51:18.560547Z",
     "start_time": "2018-09-16T10:51:17.875571Z"
    },
    "hidden": true
   },
   "outputs": [],
   "source": [
    "import pandas as pd"
   ]
  },
  {
   "cell_type": "markdown",
   "metadata": {
    "hidden": true
   },
   "source": [
    "### Load .csv file"
   ]
  },
  {
   "cell_type": "code",
   "execution_count": null,
   "metadata": {
    "ExecuteTime": {
     "start_time": "2018-09-16T11:10:46.877Z"
    },
    "hidden": true
   },
   "outputs": [],
   "source": [
    "df=pd.read_csv(\"data.csv\")\n",
    "df=df.loc[:,[\"e_id\",\"kpi\",\"Date\",\"Week_Num\",\"absolute\",\"target_monthly\",\"Target_perc\"]]\n",
    "df=df.loc[:100,:]"
   ]
  },
  {
   "cell_type": "code",
   "execution_count": 8,
   "metadata": {
    "ExecuteTime": {
     "end_time": "2018-09-16T10:55:51.537492Z",
     "start_time": "2018-09-16T10:55:51.517371Z"
    },
    "hidden": true
   },
   "outputs": [
    {
     "data": {
      "text/html": [
       "<div>\n",
       "<style scoped>\n",
       "    .dataframe tbody tr th:only-of-type {\n",
       "        vertical-align: middle;\n",
       "    }\n",
       "\n",
       "    .dataframe tbody tr th {\n",
       "        vertical-align: top;\n",
       "    }\n",
       "\n",
       "    .dataframe thead th {\n",
       "        text-align: right;\n",
       "    }\n",
       "</style>\n",
       "<table border=\"1\" class=\"dataframe\">\n",
       "  <thead>\n",
       "    <tr style=\"text-align: right;\">\n",
       "      <th></th>\n",
       "      <th>e_id</th>\n",
       "      <th>kpi</th>\n",
       "      <th>Date</th>\n",
       "      <th>Week_Num</th>\n",
       "      <th>absolute</th>\n",
       "      <th>target_monthly</th>\n",
       "      <th>Target_perc</th>\n",
       "    </tr>\n",
       "  </thead>\n",
       "  <tbody>\n",
       "    <tr>\n",
       "      <th>0</th>\n",
       "      <td>100001</td>\n",
       "      <td>KPI1_First_Time_Right_Quantity</td>\n",
       "      <td>06-06-2018</td>\n",
       "      <td>23</td>\n",
       "      <td>42</td>\n",
       "      <td>30</td>\n",
       "      <td>1.4</td>\n",
       "    </tr>\n",
       "    <tr>\n",
       "      <th>1</th>\n",
       "      <td>100001</td>\n",
       "      <td>KPI1_First_Time_Right_Quantity</td>\n",
       "      <td>07-06-2018</td>\n",
       "      <td>23</td>\n",
       "      <td>0</td>\n",
       "      <td>30</td>\n",
       "      <td>0.0</td>\n",
       "    </tr>\n",
       "    <tr>\n",
       "      <th>2</th>\n",
       "      <td>100001</td>\n",
       "      <td>KPI1_First_Time_Right_Quantity</td>\n",
       "      <td>10-06-2018</td>\n",
       "      <td>24</td>\n",
       "      <td>-21</td>\n",
       "      <td>30</td>\n",
       "      <td>-0.7</td>\n",
       "    </tr>\n",
       "    <tr>\n",
       "      <th>3</th>\n",
       "      <td>100001</td>\n",
       "      <td>KPI1_First_Time_Right_Quantity</td>\n",
       "      <td>11-06-2018</td>\n",
       "      <td>24</td>\n",
       "      <td>0</td>\n",
       "      <td>30</td>\n",
       "      <td>0.0</td>\n",
       "    </tr>\n",
       "    <tr>\n",
       "      <th>4</th>\n",
       "      <td>100001</td>\n",
       "      <td>KPI1_First_Time_Right_Quantity</td>\n",
       "      <td>12-06-2018</td>\n",
       "      <td>24</td>\n",
       "      <td>0</td>\n",
       "      <td>30</td>\n",
       "      <td>0.0</td>\n",
       "    </tr>\n",
       "  </tbody>\n",
       "</table>\n",
       "</div>"
      ],
      "text/plain": [
       "     e_id                             kpi        Date  Week_Num  absolute  \\\n",
       "0  100001  KPI1_First_Time_Right_Quantity  06-06-2018        23        42   \n",
       "1  100001  KPI1_First_Time_Right_Quantity  07-06-2018        23         0   \n",
       "2  100001  KPI1_First_Time_Right_Quantity  10-06-2018        24       -21   \n",
       "3  100001  KPI1_First_Time_Right_Quantity  11-06-2018        24         0   \n",
       "4  100001  KPI1_First_Time_Right_Quantity  12-06-2018        24         0   \n",
       "\n",
       "   target_monthly  Target_perc  \n",
       "0              30          1.4  \n",
       "1              30          0.0  \n",
       "2              30         -0.7  \n",
       "3              30          0.0  \n",
       "4              30          0.0  "
      ]
     },
     "execution_count": 8,
     "metadata": {},
     "output_type": "execute_result"
    }
   ],
   "source": [
    "df.head()"
   ]
  },
  {
   "cell_type": "markdown",
   "metadata": {
    "hidden": true
   },
   "source": [
    "### Load .xlsx file"
   ]
  },
  {
   "cell_type": "markdown",
   "metadata": {},
   "source": [
    "## Write "
   ]
  },
  {
   "cell_type": "code",
   "execution_count": null,
   "metadata": {},
   "outputs": [],
   "source": [
    "df.to_csv(\"data.csv\", sep=\",\", index=False)"
   ]
  },
  {
   "cell_type": "markdown",
   "metadata": {},
   "source": [
    "## Checking the data"
   ]
  },
  {
   "cell_type": "code",
   "execution_count": null,
   "metadata": {
    "ExecuteTime": {
     "start_time": "2018-09-16T11:24:26.952Z"
    }
   },
   "outputs": [],
   "source": [
    "df.shape"
   ]
  },
  {
   "cell_type": "code",
   "execution_count": null,
   "metadata": {},
   "outputs": [],
   "source": [
    "df.describe()"
   ]
  },
  {
   "cell_type": "code",
   "execution_count": 9,
   "metadata": {
    "ExecuteTime": {
     "end_time": "2018-09-16T11:02:23.324719Z",
     "start_time": "2018-09-16T11:02:23.132331Z"
    }
   },
   "outputs": [
    {
     "name": "stdout",
     "output_type": "stream",
     "text": [
      "<class 'pandas.core.frame.DataFrame'>\n",
      "RangeIndex: 392530 entries, 0 to 392529\n",
      "Data columns (total 7 columns):\n",
      "e_id              392530 non-null object\n",
      "kpi               392530 non-null object\n",
      "Date              392530 non-null object\n",
      "Week_Num          392530 non-null int64\n",
      "absolute          392530 non-null int64\n",
      "target_monthly    392530 non-null int64\n",
      "Target_perc       347755 non-null float64\n",
      "dtypes: float64(1), int64(3), object(3)\n",
      "memory usage: 21.0+ MB\n"
     ]
    }
   ],
   "source": [
    "df.info()"
   ]
  },
  {
   "cell_type": "code",
   "execution_count": 13,
   "metadata": {
    "ExecuteTime": {
     "end_time": "2018-09-16T11:03:03.657312Z",
     "start_time": "2018-09-16T11:03:03.649652Z"
    }
   },
   "outputs": [
    {
     "data": {
      "text/plain": [
       "Index(['e_id', 'kpi', 'Date', 'Week_Num', 'absolute', 'target_monthly',\n",
       "       'Target_perc'],\n",
       "      dtype='object')"
      ]
     },
     "execution_count": 13,
     "metadata": {},
     "output_type": "execute_result"
    }
   ],
   "source": [
    "df.columns"
   ]
  },
  {
   "cell_type": "markdown",
   "metadata": {},
   "source": [
    "## Seeing the data"
   ]
  },
  {
   "cell_type": "code",
   "execution_count": null,
   "metadata": {},
   "outputs": [],
   "source": [
    "df.head(3)"
   ]
  },
  {
   "cell_type": "code",
   "execution_count": null,
   "metadata": {},
   "outputs": [],
   "source": [
    "df.loc[8]"
   ]
  },
  {
   "cell_type": "code",
   "execution_count": null,
   "metadata": {},
   "outputs": [],
   "source": [
    "df.loc[8,\"kpi\"]"
   ]
  },
  {
   "cell_type": "code",
   "execution_count": null,
   "metadata": {},
   "outputs": [],
   "source": [
    "df.loc[range(4,6)]"
   ]
  },
  {
   "cell_type": "markdown",
   "metadata": {},
   "source": [
    "## Get data by feature name"
   ]
  },
  {
   "cell_type": "code",
   "execution_count": 23,
   "metadata": {
    "ExecuteTime": {
     "end_time": "2018-09-16T11:08:15.777918Z",
     "start_time": "2018-09-16T11:08:15.770338Z"
    }
   },
   "outputs": [
    {
     "data": {
      "text/plain": [
       "0    KPI1_First_Time_Right_Quantity\n",
       "1    KPI1_First_Time_Right_Quantity\n",
       "2    KPI1_First_Time_Right_Quantity\n",
       "3    KPI1_First_Time_Right_Quantity\n",
       "4    KPI1_First_Time_Right_Quantity\n",
       "Name: kpi, dtype: object"
      ]
     },
     "execution_count": 23,
     "metadata": {},
     "output_type": "execute_result"
    }
   ],
   "source": [
    "df.loc[:,\"kpi\"].head(5)"
   ]
  },
  {
   "cell_type": "markdown",
   "metadata": {},
   "source": [
    "## Summary information about your data"
   ]
  },
  {
   "cell_type": "code",
   "execution_count": null,
   "metadata": {
    "ExecuteTime": {
     "start_time": "2018-09-16T11:09:18.437Z"
    }
   },
   "outputs": [],
   "source": [
    "# Sum of values in a data frame\n",
    "df.sum()\n",
    "# Lowest value of a data frame\n",
    "df.min()\n",
    "# Highest value\n",
    "df.max()\n",
    "# Index of the lowest value\n",
    "df.idxmin()\n",
    "# Index of the highest value\n",
    "df.idxmax()\n",
    "# Statistical summary of the data frame, with quartiles, median, etc.\n",
    "df.describe()\n",
    "# Average values\n",
    "df.mean()\n",
    "# Median values\n",
    "df.median()\n",
    "# Correlation between columns\n",
    "df.corr()\n",
    "# To get these values for only one column, just select it like this#\n",
    "df[\"size\"].median()"
   ]
  },
  {
   "cell_type": "markdown",
   "metadata": {},
   "source": [
    "# Basic Data Handling"
   ]
  },
  {
   "cell_type": "markdown",
   "metadata": {},
   "source": [
    "## Drop missing data"
   ]
  },
  {
   "cell_type": "code",
   "execution_count": null,
   "metadata": {},
   "outputs": [],
   "source": [
    "df.dropna(axis=0, how='any')"
   ]
  },
  {
   "cell_type": "markdown",
   "metadata": {},
   "source": [
    "## Replace missing data"
   ]
  },
  {
   "cell_type": "code",
   "execution_count": null,
   "metadata": {},
   "outputs": [],
   "source": [
    "df.replace(to_replace=None, value=None)"
   ]
  },
  {
   "cell_type": "markdown",
   "metadata": {},
   "source": [
    "## Check for NANs\n",
    "\n",
    "Detect missing values (NaN in numeric arrays, None/NaN in object arrays)"
   ]
  },
  {
   "cell_type": "code",
   "execution_count": 14,
   "metadata": {
    "ExecuteTime": {
     "end_time": "2018-09-16T11:04:41.053903Z",
     "start_time": "2018-09-16T11:04:41.045792Z"
    }
   },
   "outputs": [
    {
     "data": {
      "text/plain": [
       "False"
      ]
     },
     "execution_count": 14,
     "metadata": {},
     "output_type": "execute_result"
    }
   ],
   "source": [
    "pd.isnull(object)"
   ]
  },
  {
   "cell_type": "markdown",
   "metadata": {},
   "source": [
    "## Drop a feature"
   ]
  },
  {
   "cell_type": "code",
   "execution_count": 16,
   "metadata": {
    "ExecuteTime": {
     "end_time": "2018-09-16T11:05:30.032037Z",
     "start_time": "2018-09-16T11:05:30.024554Z"
    }
   },
   "outputs": [],
   "source": [
    "df.drop('feature_variable_name', axis=1)"
   ]
  },
  {
   "cell_type": "markdown",
   "metadata": {},
   "source": [
    "## Convert object type to float"
   ]
  },
  {
   "cell_type": "code",
   "execution_count": null,
   "metadata": {},
   "outputs": [],
   "source": [
    "pd.to_numeric(df[\"feature_name\"], errors='coerce')"
   ]
  },
  {
   "cell_type": "markdown",
   "metadata": {},
   "source": [
    "## Convert data frame to numpy array "
   ]
  },
  {
   "cell_type": "code",
   "execution_count": 17,
   "metadata": {
    "ExecuteTime": {
     "end_time": "2018-09-16T11:06:21.346515Z",
     "start_time": "2018-09-16T11:06:21.274687Z"
    }
   },
   "outputs": [
    {
     "name": "stderr",
     "output_type": "stream",
     "text": [
      "C:\\Users\\u6yuv\\Anaconda3\\lib\\site-packages\\ipykernel_launcher.py:1: FutureWarning: Method .as_matrix will be removed in a future version. Use .values instead.\n",
      "  \"\"\"Entry point for launching an IPython kernel.\n"
     ]
    },
    {
     "data": {
      "text/plain": [
       "array([['100001', 'KPI1_First_Time_Right_Quantity', '06-06-2018', ...,\n",
       "        42, 30, 1.4],\n",
       "       ['100001', 'KPI1_First_Time_Right_Quantity', '07-06-2018', ..., 0,\n",
       "        30, 0.0],\n",
       "       ['100001', 'KPI1_First_Time_Right_Quantity', '10-06-2018', ...,\n",
       "        -21, 30, -0.7],\n",
       "       ...,\n",
       "       ['L99902', 'KPI8_Subscriptions_of_Rs.1500_Plan_SoftSkew',\n",
       "        '23-07-2018', ..., 0, 8, 0.0],\n",
       "       ['L99902', 'KPI8_Subscriptions_of_Rs.1500_Plan_SoftSkew',\n",
       "        '25-07-2018', ..., 5, 8, 0.625],\n",
       "       ['L99902', 'KPI8_Subscriptions_of_Rs.1500_Plan_SoftSkew',\n",
       "        '31-07-2018', ..., 1, 8, 0.125]], dtype=object)"
      ]
     },
     "execution_count": 17,
     "metadata": {},
     "output_type": "execute_result"
    }
   ],
   "source": [
    "df.as_matrix()"
   ]
  },
  {
   "cell_type": "markdown",
   "metadata": {},
   "source": [
    "## Sorting your data"
   ]
  },
  {
   "cell_type": "code",
   "execution_count": null,
   "metadata": {},
   "outputs": [],
   "source": [
    "df.sort_values(ascending = False)"
   ]
  },
  {
   "cell_type": "markdown",
   "metadata": {},
   "source": [
    "## Boolean indexing"
   ]
  },
  {
   "cell_type": "code",
   "execution_count": null,
   "metadata": {},
   "outputs": [],
   "source": [
    "df[df[\"size\"] == 5]"
   ]
  },
  {
   "cell_type": "markdown",
   "metadata": {},
   "source": [
    "## Apply"
   ]
  },
  {
   "cell_type": "code",
   "execution_count": null,
   "metadata": {},
   "outputs": [],
   "source": [
    "df[\"absolute\"].apply(lambda height: 2 * height)"
   ]
  },
  {
   "cell_type": "markdown",
   "metadata": {},
   "source": [
    "## Rename"
   ]
  },
  {
   "cell_type": "code",
   "execution_count": null,
   "metadata": {},
   "outputs": [],
   "source": [
    "df.rename(columns = {df.columns[2]:'size'}, inplace=True)"
   ]
  },
  {
   "cell_type": "markdown",
   "metadata": {},
   "source": [
    "##  Get the unique entries of a column "
   ]
  },
  {
   "cell_type": "code",
   "execution_count": null,
   "metadata": {},
   "outputs": [],
   "source": [
    "df[\"name\"].unique()"
   ]
  }
 ],
 "metadata": {
  "kernelspec": {
   "display_name": "Python 3",
   "language": "python",
   "name": "python3"
  },
  "language_info": {
   "codemirror_mode": {
    "name": "ipython",
    "version": 3
   },
   "file_extension": ".py",
   "mimetype": "text/x-python",
   "name": "python",
   "nbconvert_exporter": "python",
   "pygments_lexer": "ipython3",
   "version": "3.5.5"
  },
  "toc": {
   "base_numbering": 1,
   "nav_menu": {},
   "number_sections": true,
   "sideBar": true,
   "skip_h1_title": false,
   "title_cell": "Table of Contents",
   "title_sidebar": "Contents",
   "toc_cell": false,
   "toc_position": {},
   "toc_section_display": true,
   "toc_window_display": true
  }
 },
 "nbformat": 4,
 "nbformat_minor": 2
}
