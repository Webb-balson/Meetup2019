{
  "nbformat": 4,
  "nbformat_minor": 0,
  "metadata": {
    "colab": {
      "name": "TransferLearning&ManyMore.ipynb",
      "version": "0.3.2",
      "provenance": [],
      "collapsed_sections": []
    },
    "kernelspec": {
      "name": "python3",
      "display_name": "Python 3"
    },
    "accelerator": "GPU"
  },
  "cells": [
    {
      "metadata": {
        "id": "R8GXHu7kzMjQ",
        "colab_type": "text"
      },
      "cell_type": "markdown",
      "source": [
        "#  **Creating your own Dataset from Google Images**\n",
        "   Inspired By Fastai  Library"
      ]
    },
    {
      "metadata": {
        "id": "SGTjMttsz_kJ",
        "colab_type": "text"
      },
      "cell_type": "markdown",
      "source": [
        "### In this tutorial we will see how to easily create an image dataset through Google Images and load them in keras\n",
        "\n",
        "Note The code has been taken from fastai library and tailored for keras\n"
      ]
    },
    {
      "metadata": {
        "id": "oYK7nOt50VeA",
        "colab_type": "text"
      },
      "cell_type": "markdown",
      "source": [
        "\n",
        "## Get a list of URLs\n",
        "## Search and scroll\n",
        "\n",
        "Go to [Google Images](https://images.google.com/) and search for the images you are interested in. The more specific you are in your Google Search, the better the results and the less manual pruning you will have to do.\n",
        "\n",
        "Scroll down until you see a button that says **Show more results** . All the images you scrolled past are now available to download. To get more, click on the button. Then continue scrolling until you cannot scroll anymore. The maximum number of images Google Images shows is 700.\n",
        "\n",
        "## Download into file\n",
        "\n",
        "Now you must run some Javascript code in your browser which will save the URLs of all the images you want for you dataset.\n",
        "\n",
        "Press Ctrl+Shift+J in Windows/Linux and Cmd+Opt+J in Mac for Chrome and Ctrl+Shift+K in Firefox, a small window the javascript 'Console' will appear. That is where you will paste the JavaScript commands.\n",
        "\n",
        "You will need to get the urls of each of the images. You can do this by running the following commands:\n",
        "\n",
        "\n",
        "\n",
        "```javascript\n",
        "urls = Array.from(document.querySelectorAll('.rg_di .rg_meta')).map(el=>JSON.parse(el.textContent).ou);\n",
        "window.open('data:text/csv;charset=utf-8,' + escape(urls.join('\\n')));\n",
        "```\n",
        "\n",
        "\n"
      ]
    },
    {
      "metadata": {
        "id": "ds3IdHKa2lgk",
        "colab_type": "text"
      },
      "cell_type": "markdown",
      "source": [
        "## In this tutorial, we are working on birds datasets.\n",
        "\n",
        "Here we have images of 10 different birds species found in India.\n",
        "So the steps are as following\n",
        "1. Make 10 CSV files of all the different birds in your local system by following above steps\n",
        "2. Zip it and upload it to Google colab\n",
        "3. Unzip it, download all the Images in their specific folder\n",
        "4. Verify all the Images \n",
        "5. Use It and Enjoy"
      ]
    },
    {
      "metadata": {
        "id": "wQ6WjY-4GAt7",
        "colab_type": "code",
        "colab": {
          "base_uri": "https://localhost:8080/",
          "height": 610
        },
        "outputId": "124aa8f0-89ec-4b71-e315-3da0f9fae067"
      },
      "cell_type": "code",
      "source": [
        "# import all the library's\n",
        "!pip install torch torchvision\n",
        "!pip install Pillow==4.0.0\n",
        "\n",
        "from tqdm import tqdm # for progress bar \n",
        "import os,sys,requests \n",
        "from concurrent.futures import ProcessPoolExecutor ,as_completed # Asynchronous Execution\n",
        "import numpy as np \n",
        "import matplotlib.pyplot as plt\n",
        "from pathlib import Path\n",
        "\n",
        "import torch\n",
        "from torch import nn\n",
        "import torch.nn.functional  as F\n",
        "from torch.utils.data import Dataset , DataLoader\n",
        "\n",
        "import torchvision\n",
        "from torchvision import transforms ,models"
      ],
      "execution_count": 1,
      "outputs": [
        {
          "output_type": "stream",
          "text": [
            "Collecting torch\n",
            "\u001b[?25l  Downloading https://files.pythonhosted.org/packages/7e/60/66415660aa46b23b5e1b72bc762e816736ce8d7260213e22365af51e8f9c/torch-1.0.0-cp36-cp36m-manylinux1_x86_64.whl (591.8MB)\n",
            "\u001b[K    100% |████████████████████████████████| 591.8MB 27kB/s \n",
            "tcmalloc: large alloc 1073750016 bytes == 0x62076000 @  0x7f24c39cc2a4 0x591a07 0x5b5d56 0x502e9a 0x506859 0x502209 0x502f3d 0x506859 0x504c28 0x502540 0x502f3d 0x506859 0x504c28 0x502540 0x502f3d 0x506859 0x504c28 0x502540 0x502f3d 0x507641 0x502209 0x502f3d 0x506859 0x504c28 0x502540 0x502f3d 0x507641 0x504c28 0x502540 0x502f3d 0x507641\n",
            "\u001b[?25hCollecting torchvision\n",
            "\u001b[?25l  Downloading https://files.pythonhosted.org/packages/ca/0d/f00b2885711e08bd71242ebe7b96561e6f6d01fdb4b9dcf4d37e2e13c5e1/torchvision-0.2.1-py2.py3-none-any.whl (54kB)\n",
            "\u001b[K    100% |████████████████████████████████| 61kB 25.4MB/s \n",
            "\u001b[?25hRequirement already satisfied: six in /usr/local/lib/python3.6/dist-packages (from torchvision) (1.11.0)\n",
            "Collecting pillow>=4.1.1 (from torchvision)\n",
            "\u001b[?25l  Downloading https://files.pythonhosted.org/packages/85/5e/e91792f198bbc5a0d7d3055ad552bc4062942d27eaf75c3e2783cf64eae5/Pillow-5.4.1-cp36-cp36m-manylinux1_x86_64.whl (2.0MB)\n",
            "\u001b[K    100% |████████████████████████████████| 2.0MB 7.0MB/s \n",
            "\u001b[?25hRequirement already satisfied: numpy in /usr/local/lib/python3.6/dist-packages (from torchvision) (1.14.6)\n",
            "Installing collected packages: torch, pillow, torchvision\n",
            "  Found existing installation: Pillow 4.0.0\n",
            "    Uninstalling Pillow-4.0.0:\n",
            "      Successfully uninstalled Pillow-4.0.0\n",
            "Successfully installed pillow-5.4.1 torch-1.0.0 torchvision-0.2.1\n",
            "\u001b[0;31;1mWARNING: The following packages were previously imported in this runtime:\n",
            "  [PIL]\n",
            "You must restart the runtime in order to use newly installed versions.\u001b[0m\n",
            "Collecting Pillow==4.0.0\n",
            "\u001b[?25l  Downloading https://files.pythonhosted.org/packages/37/e8/b3fbf87b0188d22246678f8cd61e23e31caa1769ebc06f1664e2e5fe8a17/Pillow-4.0.0-cp36-cp36m-manylinux1_x86_64.whl (5.6MB)\n",
            "\u001b[K    100% |████████████████████████████████| 5.6MB 7.7MB/s \n",
            "\u001b[?25hRequirement already satisfied: olefile in /usr/local/lib/python3.6/dist-packages (from Pillow==4.0.0) (0.46)\n",
            "\u001b[31mtorchvision 0.2.1 has requirement pillow>=4.1.1, but you'll have pillow 4.0.0 which is incompatible.\u001b[0m\n",
            "Installing collected packages: Pillow\n",
            "  Found existing installation: Pillow 5.4.1\n",
            "    Uninstalling Pillow-5.4.1:\n",
            "      Successfully uninstalled Pillow-5.4.1\n",
            "Successfully installed Pillow-4.0.0\n",
            "\u001b[0;31;1mWARNING: The following packages were previously imported in this runtime:\n",
            "  [PIL]\n",
            "You must restart the runtime in order to use newly installed versions.\u001b[0m\n"
          ],
          "name": "stdout"
        }
      ]
    },
    {
      "metadata": {
        "id": "c_Dk4_oYq_iv",
        "colab_type": "code",
        "outputId": "8d82940f-c3b9-4fe1-85be-6bc856a28e9c",
        "colab": {
          "resources": {
            "http://localhost:8080/nbextensions/google.colab/files.js": {
              "data": "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",
              "ok": true,
              "headers": [
                [
                  "content-type",
                  "application/javascript"
                ]
              ],
              "status": 200,
              "status_text": "OK"
            }
          },
          "base_uri": "https://localhost:8080/",
          "height": 81
        }
      },
      "cell_type": "code",
      "source": [
        "# Upload the ziped file \n",
        "from google.colab import files\n",
        "uploaded = files.upload()"
      ],
      "execution_count": 2,
      "outputs": [
        {
          "output_type": "display_data",
          "data": {
            "text/html": [
              "\n",
              "     <input type=\"file\" id=\"files-3b0af820-182b-48d0-9b63-88366eccd0f9\" name=\"files[]\" multiple disabled />\n",
              "     <output id=\"result-3b0af820-182b-48d0-9b63-88366eccd0f9\">\n",
              "      Upload widget is only available when the cell has been executed in the\n",
              "      current browser session. Please rerun this cell to enable.\n",
              "      </output>\n",
              "      <script src=\"/nbextensions/google.colab/files.js\"></script> "
            ],
            "text/plain": [
              "<IPython.core.display.HTML object>"
            ]
          },
          "metadata": {
            "tags": []
          }
        },
        {
          "output_type": "stream",
          "text": [
            "Saving Birds.zip to Birds.zip\n"
          ],
          "name": "stdout"
        }
      ]
    },
    {
      "metadata": {
        "id": "lfASYDE4tbex",
        "colab_type": "code",
        "outputId": "08565489-13ce-4653-c9ca-9d135171ebc9",
        "colab": {
          "base_uri": "https://localhost:8080/",
          "height": 416
        }
      },
      "cell_type": "code",
      "source": [
        "!unzip Birds.zip\n",
        "!ls -l Birds"
      ],
      "execution_count": 3,
      "outputs": [
        {
          "output_type": "stream",
          "text": [
            "Archive:  Birds.zip\n",
            "   creating: Birds/\n",
            "  inflating: Birds/Asian Paradise Flycatcher.csv  \n",
            "  inflating: Birds/Himalayan Monal.csv  \n",
            "  inflating: Birds/Indian Pitta.csv  \n",
            "  inflating: Birds/Mrs. Gould’s Sunbird.csv  \n",
            "  inflating: Birds/Oriental Dwarf Kingfisher.csv  \n",
            "  inflating: Birds/Red Headed Trogon.csv  \n",
            "  inflating: Birds/Sarus Crane.csv   \n",
            "  inflating: Birds/Satyr Tragopan.csv  \n",
            "  inflating: Birds/parrot.csv        \n",
            "  inflating: Birds/peacock.csv       \n",
            "total 620\n",
            "-rw-rw-r-- 1 root root 61740 Nov  3 19:23 'Asian Paradise Flycatcher.csv'\n",
            "-rw-rw-r-- 1 root root 48812 Nov  3 19:20 'Himalayan Monal.csv'\n",
            "-rw-rw-r-- 1 root root 60080 Nov  3 19:15 'Indian Pitta.csv'\n",
            "-rw-rw-r-- 1 root root 54367 Nov  3 19:12 'Mrs. Gould’s Sunbird.csv'\n",
            "-rw-rw-r-- 1 root root 59841 Nov  3 19:06 'Oriental Dwarf Kingfisher.csv'\n",
            "-rw-rw-r-- 1 root root 85959 Nov  3 18:43  parrot.csv\n",
            "-rw-rw-r-- 1 root root 77909 Nov  3 18:37  peacock.csv\n",
            "-rw-rw-r-- 1 root root 55118 Nov  3 19:05 'Red Headed Trogon.csv'\n",
            "-rw-rw-r-- 1 root root 58170 Nov  3 19:03 'Sarus Crane.csv'\n",
            "-rw-rw-r-- 1 root root 51467 Nov  3 19:01 'Satyr Tragopan.csv'\n"
          ],
          "name": "stdout"
        }
      ]
    },
    {
      "metadata": {
        "id": "sCaeH916o6Lc",
        "colab_type": "code",
        "colab": {}
      },
      "cell_type": "code",
      "source": [
        "def download_url(url:str, dest:str, overwrite:bool=False, chunk_size=1024*1024, timeout=4):\n",
        "    \"Download `url` to `dest` unless it exists and not `overwrite`.\"\n",
        "    if os.path.exists(dest) and not overwrite: return\n",
        "\n",
        "    u = requests.get(url, stream=True, timeout=timeout)\n",
        "    try: file_size = int(u.headers[\"Content-Length\"])\n",
        "    except: pass\n",
        "        \n",
        "    with open(dest, 'wb') as f:\n",
        "        for chunk in u.iter_content(chunk_size=chunk_size):\n",
        "            f.write(chunk)\n",
        "\n",
        "def download_images(urls:str, dest:Path, max_pics:int=1000, max_workers:int=8, timeout=4,prefix=None,show_progress=True):\n",
        "    \"Download images listed in text file urls to path dest , at most max_pics\"\n",
        "    urls = open(urls).read().strip().split(\"\\n\")[:max_pics] # get all the urls in the list\n",
        "    dest = Path(dest) # get the path of the folder \n",
        "    dest.mkdir(exist_ok=True) # create all the parent and child directory if neccessary. \n",
        "\n",
        "    if max_workers: # use the power of multiprocessing\n",
        "        with ProcessPoolExecutor(max_workers=max_workers) as ex: # use a ProcessPoolExecutor for using pool of process to execute call asynchronously.\n",
        "             # submit schedules the callable and return a Future object on completion. We iterate through all the urls to create Future objects for each url \n",
        "            futures = [ex.submit(download_url, url, dest/f\"{i:08d}.jpg\", timeout=timeout) for i,url in enumerate(urls)]\n",
        "            if show_progress : \n",
        "                for f in tqdm(as_completed(futures), total=len(urls),desc=prefix): pass # show th progress bar"
      ],
      "execution_count": 0,
      "outputs": []
    },
    {
      "metadata": {
        "id": "c-GIyV446djY",
        "colab_type": "code",
        "outputId": "30f8bbf4-a896-459c-a5de-a40f5d38fd83",
        "colab": {
          "base_uri": "https://localhost:8080/",
          "height": 191
        }
      },
      "cell_type": "code",
      "source": [
        "# get the path for all csv files\n",
        "birdspath = Path(\"Birds\")\n",
        "birdspath = [ Path(child) for child in birdspath.iterdir()]\n",
        "birdspath"
      ],
      "execution_count": 5,
      "outputs": [
        {
          "output_type": "execute_result",
          "data": {
            "text/plain": [
              "[PosixPath('Birds/Mrs. Gould’s Sunbird.csv'),\n",
              " PosixPath('Birds/parrot.csv'),\n",
              " PosixPath('Birds/Indian Pitta.csv'),\n",
              " PosixPath('Birds/Sarus Crane.csv'),\n",
              " PosixPath('Birds/Oriental Dwarf Kingfisher.csv'),\n",
              " PosixPath('Birds/peacock.csv'),\n",
              " PosixPath('Birds/Asian Paradise Flycatcher.csv'),\n",
              " PosixPath('Birds/Satyr Tragopan.csv'),\n",
              " PosixPath('Birds/Red Headed Trogon.csv'),\n",
              " PosixPath('Birds/Himalayan Monal.csv')]"
            ]
          },
          "metadata": {
            "tags": []
          },
          "execution_count": 5
        }
      ]
    },
    {
      "metadata": {
        "id": "ArS40t5rppb6",
        "colab_type": "code",
        "outputId": "cf82f480-3700-41e5-c808-5903f904d42e",
        "colab": {
          "base_uri": "https://localhost:8080/",
          "height": 364
        }
      },
      "cell_type": "code",
      "source": [
        "import re\n",
        "from pprint import pprint \n",
        "all_birds_Name = [re.sub(r\".csv|\\.\\s|\\s*|\\’\" , r\"\", x.name) for x in birdspath] # Get all the birds name from the csv file\n",
        "pprint(all_birds_Name)\n",
        "folder_file = {x:y for x ,y in zip(all_birds_Name , birdspath)} # create a folder name the file name dictionary \n",
        "pprint(folder_file)"
      ],
      "execution_count": 6,
      "outputs": [
        {
          "output_type": "stream",
          "text": [
            "['MrsGould’sSunbird',\n",
            " 'parrot',\n",
            " 'IndianPitta',\n",
            " 'SarusCrane',\n",
            " 'OrientalDwarfKingfisher',\n",
            " 'peacock',\n",
            " 'AsianParadiseFlycatcher',\n",
            " 'SatyrTragopan',\n",
            " 'RedHeadedTrogon',\n",
            " 'HimalayanMonal']\n",
            "{'AsianParadiseFlycatcher': PosixPath('Birds/Asian Paradise Flycatcher.csv'),\n",
            " 'HimalayanMonal': PosixPath('Birds/Himalayan Monal.csv'),\n",
            " 'IndianPitta': PosixPath('Birds/Indian Pitta.csv'),\n",
            " 'MrsGould’sSunbird': PosixPath('Birds/Mrs. Gould’s Sunbird.csv'),\n",
            " 'OrientalDwarfKingfisher': PosixPath('Birds/Oriental Dwarf Kingfisher.csv'),\n",
            " 'RedHeadedTrogon': PosixPath('Birds/Red Headed Trogon.csv'),\n",
            " 'SarusCrane': PosixPath('Birds/Sarus Crane.csv'),\n",
            " 'SatyrTragopan': PosixPath('Birds/Satyr Tragopan.csv'),\n",
            " 'parrot': PosixPath('Birds/parrot.csv'),\n",
            " 'peacock': PosixPath('Birds/peacock.csv')}\n"
          ],
          "name": "stdout"
        }
      ]
    },
    {
      "metadata": {
        "id": "mx3NbCz16ua9",
        "colab_type": "code",
        "outputId": "5adbb9dd-a1b3-4446-c022-6073f33543af",
        "colab": {
          "base_uri": "https://localhost:8080/",
          "height": 191
        }
      },
      "cell_type": "code",
      "source": [
        "# download all the images \n",
        "for folder,file in folder_file.items():\n",
        "    path = Path(\"train\") # create a parent directory   \n",
        "    dest = path/folder # Specific folder for each bird\n",
        "    dest.mkdir(parents=True,exist_ok=True)\n",
        "    download_images(file, dest,prefix=folder)"
      ],
      "execution_count": 7,
      "outputs": [
        {
          "output_type": "stream",
          "text": [
            "MrsGould’sSunbird: 100%|██████████| 550/550 [01:11<00:00,  8.12it/s]\n",
            "parrot: 100%|██████████| 847/847 [03:16<00:00, 16.88s/it]\n",
            "IndianPitta: 100%|██████████| 648/648 [01:24<00:00,  5.56it/s]\n",
            "SarusCrane: 100%|██████████| 609/609 [01:18<00:00,  7.77it/s]\n",
            "OrientalDwarfKingfisher: 100%|██████████| 546/546 [01:04<00:00,  2.02it/s]\n",
            "peacock: 100%|██████████| 810/810 [02:26<00:00,  3.54s/it]\n",
            "AsianParadiseFlycatcher: 100%|██████████| 634/634 [01:15<00:00,  8.34it/s]\n",
            "SatyrTragopan: 100%|██████████| 544/544 [01:16<00:00,  2.23it/s]\n",
            "RedHeadedTrogon: 100%|██████████| 585/585 [01:10<00:00,  8.27it/s]\n",
            "HimalayanMonal: 100%|██████████| 512/512 [01:07<00:00,  3.83it/s]\n"
          ],
          "name": "stderr"
        }
      ]
    },
    {
      "metadata": {
        "id": "KpivGLyOtfcS",
        "colab_type": "code",
        "outputId": "27142a30-380e-4e52-cd6d-dcefd1b3d247",
        "colab": {
          "base_uri": "https://localhost:8080/",
          "height": 191
        }
      },
      "cell_type": "code",
      "source": [
        "length = lambda iterrator : len(tuple(iterrator))\n",
        "birdsPerClassCount = { (path/folder).name : length((path/folder).iterdir()) for folder,file in folder_file.items() }\n",
        "sorted(birdsPerClassCount.items() , key=lambda x :x[1])"
      ],
      "execution_count": 8,
      "outputs": [
        {
          "output_type": "execute_result",
          "data": {
            "text/plain": [
              "[('HimalayanMonal', 507),\n",
              " ('SatyrTragopan', 529),\n",
              " ('MrsGould’sSunbird', 540),\n",
              " ('OrientalDwarfKingfisher', 543),\n",
              " ('RedHeadedTrogon', 579),\n",
              " ('SarusCrane', 591),\n",
              " ('AsianParadiseFlycatcher', 628),\n",
              " ('IndianPitta', 643),\n",
              " ('peacock', 804),\n",
              " ('parrot', 838)]"
            ]
          },
          "metadata": {
            "tags": []
          },
          "execution_count": 8
        }
      ]
    },
    {
      "metadata": {
        "id": "FBBjtKenyYF1",
        "colab_type": "code",
        "colab": {}
      },
      "cell_type": "code",
      "source": [
        "import PIL\n",
        "def verify_image(file:Path, delete:bool ,dest:Path=None, n_channels:int=3, **kwargs):\n",
        "    \"\"\"Check if the image in `file` exists, can be opend and has `n_channels`. If `delete`, removes it if it fails.\n",
        "        Result is stored in `dest` `img_format` and `kwargs` are passed to PIL.Image.save.\"\"\"\n",
        "    try:\n",
        "        img = PIL.Image.open(file)\n",
        "        assert isinstance(dest, Path), \"You should provide `dest` Path to save resized image\"\n",
        "        if not file.is_file(): return\n",
        "        if n_channels == 3: img = img.convert(\"RGB\")\n",
        "        img.save(file, **kwargs)\n",
        "        img = np.array(img)\n",
        "        img_channels = 1 if len(img.shape) == 2 else img.shape[2]\n",
        "        assert img_channels == n_channels, f\"Image {file} has {img_channels} instead of {n_channels}\"\n",
        "    except Exception as e:\n",
        "        #print(f'{e}')\n",
        "        if delete: file.unlink()\n",
        "\n",
        "def verify_images(path:Path, delete:bool=True, max_workers:int=4 , dest:Path=\".\",n_channels:int=3,**kwargs):\n",
        "    \"\"\"Check if the image in `path` exists, can be opened and has `n_channels`.\n",
        "    If `n_channels` is 3 – it'll try to convert image to RGB. If `delete`, removes it if it fails.\n",
        "    If `max_size` is specifided,\n",
        "    image is resized to the same ratio so that both sizes are less than `max_size`, using `interp`.\n",
        "    Result is stored in `dest`, `ext` forces an extension type, `img_format` and `kwargs` are\n",
        "    passed to PIL.Image.save. Use `max_workers` CPUs.\"\"\"\n",
        "    dest = path/Path(dest)\n",
        "    dest.mkdir(exist_ok=True)\n",
        "    with ProcessPoolExecutor(max_workers=max_workers) as ex:\n",
        "        files = [Path(file) for file in path.iterdir()]\n",
        "        futures = [ex.submit(verify_image, file, delete=delete,dest=dest, n_channels=n_channels, **kwargs) for file in files]\n",
        "    for f in tqdm(as_completed(futures), total=len(files) , desc=path.name): pass"
      ],
      "execution_count": 0,
      "outputs": []
    },
    {
      "metadata": {
        "id": "Hr87BXiPydTw",
        "colab_type": "code",
        "outputId": "95e4b754-68aa-4a97-c060-162832a4b01d",
        "colab": {
          "base_uri": "https://localhost:8080/",
          "height": 419
        }
      },
      "cell_type": "code",
      "source": [
        "for folder,file in folder_file.items():\n",
        "    path = Path(\"train\")\n",
        "    verify_images(path/folder,delete=True)"
      ],
      "execution_count": 10,
      "outputs": [
        {
          "output_type": "stream",
          "text": [
            "MrsGould’sSunbird: 100%|██████████| 540/540 [00:00<00:00, 194280.68it/s]\n",
            "parrot: 100%|██████████| 838/838 [00:00<00:00, 208991.96it/s]\n",
            "IndianPitta: 100%|██████████| 643/643 [00:00<00:00, 207840.43it/s]\n",
            "SarusCrane: 100%|██████████| 591/591 [00:00<00:00, 200342.17it/s]\n",
            "OrientalDwarfKingfisher: 100%|██████████| 543/543 [00:00<00:00, 204572.63it/s]\n",
            "/usr/local/lib/python3.6/dist-packages/PIL/Image.py:872: UserWarning: Palette images with Transparency   expressed in bytes should be converted to RGBA images\n",
            "  'to RGBA images')\n",
            "/usr/local/lib/python3.6/dist-packages/PIL/Image.py:872: UserWarning: Palette images with Transparency   expressed in bytes should be converted to RGBA images\n",
            "  'to RGBA images')\n",
            "peacock: 100%|██████████| 804/804 [00:00<00:00, 195377.78it/s]\n",
            "AsianParadiseFlycatcher: 100%|██████████| 628/628 [00:00<00:00, 179514.95it/s]\n",
            "/usr/local/lib/python3.6/dist-packages/PIL/Image.py:872: UserWarning: Palette images with Transparency   expressed in bytes should be converted to RGBA images\n",
            "  'to RGBA images')\n",
            "/usr/local/lib/python3.6/dist-packages/PIL/Image.py:872: UserWarning: Palette images with Transparency   expressed in bytes should be converted to RGBA images\n",
            "  'to RGBA images')\n",
            "/usr/local/lib/python3.6/dist-packages/PIL/Image.py:872: UserWarning: Palette images with Transparency   expressed in bytes should be converted to RGBA images\n",
            "  'to RGBA images')\n",
            "SatyrTragopan: 100%|██████████| 529/529 [00:00<00:00, 180992.48it/s]\n",
            "/usr/local/lib/python3.6/dist-packages/PIL/Image.py:872: UserWarning: Palette images with Transparency   expressed in bytes should be converted to RGBA images\n",
            "  'to RGBA images')\n",
            "RedHeadedTrogon: 100%|██████████| 579/579 [00:00<00:00, 208831.54it/s]\n",
            "HimalayanMonal: 100%|██████████| 507/507 [00:00<00:00, 80106.69it/s]\n"
          ],
          "name": "stderr"
        }
      ]
    },
    {
      "metadata": {
        "id": "pid9fWsMygpQ",
        "colab_type": "code",
        "outputId": "2b08e619-18c0-4111-bbc4-b6d376a1a195",
        "colab": {
          "base_uri": "https://localhost:8080/",
          "height": 191
        }
      },
      "cell_type": "code",
      "source": [
        "birdsPerClassCountVerify = { (path/folder).name :len([*(path/folder).iterdir()]) for folder,file in folder_file.items() }\n",
        "sorted(birdsPerClassCountVerify.items() , key=lambda x :x[1])"
      ],
      "execution_count": 11,
      "outputs": [
        {
          "output_type": "execute_result",
          "data": {
            "text/plain": [
              "[('HimalayanMonal', 494),\n",
              " ('OrientalDwarfKingfisher', 514),\n",
              " ('SatyrTragopan', 514),\n",
              " ('MrsGould’sSunbird', 519),\n",
              " ('RedHeadedTrogon', 553),\n",
              " ('SarusCrane', 579),\n",
              " ('AsianParadiseFlycatcher', 599),\n",
              " ('IndianPitta', 616),\n",
              " ('parrot', 752),\n",
              " ('peacock', 764)]"
            ]
          },
          "metadata": {
            "tags": []
          },
          "execution_count": 11
        }
      ]
    },
    {
      "metadata": {
        "id": "lnVFrQD06P7A",
        "colab_type": "code",
        "colab": {}
      },
      "cell_type": "code",
      "source": [
        " \n",
        " "
      ],
      "execution_count": 0,
      "outputs": []
    },
    {
      "metadata": {
        "id": "zYqcR-mb8uHm",
        "colab_type": "code",
        "colab": {}
      },
      "cell_type": "code",
      "source": [
        ""
      ],
      "execution_count": 0,
      "outputs": []
    },
    {
      "metadata": {
        "id": "RmGXSFIt6Rlu",
        "colab_type": "text"
      },
      "cell_type": "markdown",
      "source": [
        "# Transfer Learning\n",
        "\n",
        "![](https://2s7gjr373w3x22jf92z99mgm5w-wpengine.netdna-ssl.com/wp-content/uploads/2016/06/transfer-learning.png)\n",
        "\n",
        "In practice, very few people train an entire Convolutional Network from scratch (with random initialization), because it is relatively rare to have a dataset of sufficient size. Instead, it is common to pretrain a ConvNet on a very large dataset (e.g. ImageNet, which contains 1.2 million images with 1000 categories), and then use the ConvNet either as an initialization or a fixed feature extractor for the task of interest. The three major Transfer Learning scenarios look as follows:\n",
        "\n",
        "  1.   ConvNet as fixed feature extractor : Here we take pretrained network chuck out the fully connected classifier part and use only the convolution layers as a feature extractor which can be used in Style Transfer or Deep Dream algorithms.\n",
        "\n",
        "  2.    Fine-tuning the ConvNet : The model can be fine-tunned for a particular problem. For example in Dog vs Cat classification we can use the pretrained imagenet weights and can fine tune the convolution layer for dogs vs cats example.We can do this because imagenet dataset already contained Dogs and Cats example\n",
        "  \n",
        "  3.    Pretrained models: Since modern ConvNets take 2-3 weeks to train across multiple GPUs on ImageNet, it is common to see people release their final ConvNet checkpoints for the benefit of others who can use the networks for fine-tuning.\n",
        "\n"
      ]
    },
    {
      "metadata": {
        "id": "_XtikPyW79GT",
        "colab_type": "code",
        "outputId": "557bb9ec-562e-4156-a512-192e212801bf",
        "colab": {
          "base_uri": "https://localhost:8080/",
          "height": 69
        }
      },
      "cell_type": "code",
      "source": [
        "model = models.resnet50(pretrained=True) # load the pretrained model\n",
        "num_features = model.fc.in_features # get the no of on_features in last Linear unit\n",
        "print(num_features)\n",
        "## freeze the entire convolution base\n",
        "for param in model.parameters():\n",
        "  param.requires_grad_(False)\n"
      ],
      "execution_count": 12,
      "outputs": [
        {
          "output_type": "stream",
          "text": [
            "Downloading: \"https://download.pytorch.org/models/resnet50-19c8e357.pth\" to /root/.torch/models/resnet50-19c8e357.pth\n",
            "100%|██████████| 102502400/102502400 [00:04<00:00, 24450283.30it/s]\n"
          ],
          "name": "stderr"
        },
        {
          "output_type": "stream",
          "text": [
            "2048\n"
          ],
          "name": "stdout"
        }
      ]
    },
    {
      "metadata": {
        "id": "jQyFChlsdiSb",
        "colab_type": "code",
        "outputId": "067018a5-27a5-49f7-8c47-880f3d97c08a",
        "colab": {
          "base_uri": "https://localhost:8080/",
          "height": 3247
        }
      },
      "cell_type": "code",
      "source": [
        "def create_head(num_features , number_classes ,dropout_prob=0.5 ,activation_func =nn.ReLU):\n",
        "  features_lst = [num_features , num_features//2 , num_features//4]\n",
        "  layers = []\n",
        "  for in_f ,out_f in zip(features_lst[:-1] , features_lst[1:]):\n",
        "    layers.append(nn.Linear(in_f , out_f))\n",
        "    layers.append(activation_func())\n",
        "    layers.append(nn.BatchNorm1d(out_f))\n",
        "    if dropout_prob !=0 : layers.append(nn.Dropout(dropout_prob))\n",
        "  layers.append(nn.Linear(features_lst[-1] , number_classes))\n",
        "  return nn.Sequential(*layers)\n",
        "\n",
        "top_head = create_head(num_features , len(birdsPerClassCount)) # because ten classes\n",
        "model.fc = top_head # replace the fully connected layer\n",
        "\n",
        "model"
      ],
      "execution_count": 13,
      "outputs": [
        {
          "output_type": "execute_result",
          "data": {
            "text/plain": [
              "ResNet(\n",
              "  (conv1): Conv2d(3, 64, kernel_size=(7, 7), stride=(2, 2), padding=(3, 3), bias=False)\n",
              "  (bn1): BatchNorm2d(64, eps=1e-05, momentum=0.1, affine=True, track_running_stats=True)\n",
              "  (relu): ReLU(inplace)\n",
              "  (maxpool): MaxPool2d(kernel_size=3, stride=2, padding=1, dilation=1, ceil_mode=False)\n",
              "  (layer1): Sequential(\n",
              "    (0): Bottleneck(\n",
              "      (conv1): Conv2d(64, 64, kernel_size=(1, 1), stride=(1, 1), bias=False)\n",
              "      (bn1): BatchNorm2d(64, eps=1e-05, momentum=0.1, affine=True, track_running_stats=True)\n",
              "      (conv2): Conv2d(64, 64, kernel_size=(3, 3), stride=(1, 1), padding=(1, 1), bias=False)\n",
              "      (bn2): BatchNorm2d(64, eps=1e-05, momentum=0.1, affine=True, track_running_stats=True)\n",
              "      (conv3): Conv2d(64, 256, kernel_size=(1, 1), stride=(1, 1), bias=False)\n",
              "      (bn3): BatchNorm2d(256, eps=1e-05, momentum=0.1, affine=True, track_running_stats=True)\n",
              "      (relu): ReLU(inplace)\n",
              "      (downsample): Sequential(\n",
              "        (0): Conv2d(64, 256, kernel_size=(1, 1), stride=(1, 1), bias=False)\n",
              "        (1): BatchNorm2d(256, eps=1e-05, momentum=0.1, affine=True, track_running_stats=True)\n",
              "      )\n",
              "    )\n",
              "    (1): Bottleneck(\n",
              "      (conv1): Conv2d(256, 64, kernel_size=(1, 1), stride=(1, 1), bias=False)\n",
              "      (bn1): BatchNorm2d(64, eps=1e-05, momentum=0.1, affine=True, track_running_stats=True)\n",
              "      (conv2): Conv2d(64, 64, kernel_size=(3, 3), stride=(1, 1), padding=(1, 1), bias=False)\n",
              "      (bn2): BatchNorm2d(64, eps=1e-05, momentum=0.1, affine=True, track_running_stats=True)\n",
              "      (conv3): Conv2d(64, 256, kernel_size=(1, 1), stride=(1, 1), bias=False)\n",
              "      (bn3): BatchNorm2d(256, eps=1e-05, momentum=0.1, affine=True, track_running_stats=True)\n",
              "      (relu): ReLU(inplace)\n",
              "    )\n",
              "    (2): Bottleneck(\n",
              "      (conv1): Conv2d(256, 64, kernel_size=(1, 1), stride=(1, 1), bias=False)\n",
              "      (bn1): BatchNorm2d(64, eps=1e-05, momentum=0.1, affine=True, track_running_stats=True)\n",
              "      (conv2): Conv2d(64, 64, kernel_size=(3, 3), stride=(1, 1), padding=(1, 1), bias=False)\n",
              "      (bn2): BatchNorm2d(64, eps=1e-05, momentum=0.1, affine=True, track_running_stats=True)\n",
              "      (conv3): Conv2d(64, 256, kernel_size=(1, 1), stride=(1, 1), bias=False)\n",
              "      (bn3): BatchNorm2d(256, eps=1e-05, momentum=0.1, affine=True, track_running_stats=True)\n",
              "      (relu): ReLU(inplace)\n",
              "    )\n",
              "  )\n",
              "  (layer2): Sequential(\n",
              "    (0): Bottleneck(\n",
              "      (conv1): Conv2d(256, 128, kernel_size=(1, 1), stride=(1, 1), bias=False)\n",
              "      (bn1): BatchNorm2d(128, eps=1e-05, momentum=0.1, affine=True, track_running_stats=True)\n",
              "      (conv2): Conv2d(128, 128, kernel_size=(3, 3), stride=(2, 2), padding=(1, 1), bias=False)\n",
              "      (bn2): BatchNorm2d(128, eps=1e-05, momentum=0.1, affine=True, track_running_stats=True)\n",
              "      (conv3): Conv2d(128, 512, kernel_size=(1, 1), stride=(1, 1), bias=False)\n",
              "      (bn3): BatchNorm2d(512, eps=1e-05, momentum=0.1, affine=True, track_running_stats=True)\n",
              "      (relu): ReLU(inplace)\n",
              "      (downsample): Sequential(\n",
              "        (0): Conv2d(256, 512, kernel_size=(1, 1), stride=(2, 2), bias=False)\n",
              "        (1): BatchNorm2d(512, eps=1e-05, momentum=0.1, affine=True, track_running_stats=True)\n",
              "      )\n",
              "    )\n",
              "    (1): Bottleneck(\n",
              "      (conv1): Conv2d(512, 128, kernel_size=(1, 1), stride=(1, 1), bias=False)\n",
              "      (bn1): BatchNorm2d(128, eps=1e-05, momentum=0.1, affine=True, track_running_stats=True)\n",
              "      (conv2): Conv2d(128, 128, kernel_size=(3, 3), stride=(1, 1), padding=(1, 1), bias=False)\n",
              "      (bn2): BatchNorm2d(128, eps=1e-05, momentum=0.1, affine=True, track_running_stats=True)\n",
              "      (conv3): Conv2d(128, 512, kernel_size=(1, 1), stride=(1, 1), bias=False)\n",
              "      (bn3): BatchNorm2d(512, eps=1e-05, momentum=0.1, affine=True, track_running_stats=True)\n",
              "      (relu): ReLU(inplace)\n",
              "    )\n",
              "    (2): Bottleneck(\n",
              "      (conv1): Conv2d(512, 128, kernel_size=(1, 1), stride=(1, 1), bias=False)\n",
              "      (bn1): BatchNorm2d(128, eps=1e-05, momentum=0.1, affine=True, track_running_stats=True)\n",
              "      (conv2): Conv2d(128, 128, kernel_size=(3, 3), stride=(1, 1), padding=(1, 1), bias=False)\n",
              "      (bn2): BatchNorm2d(128, eps=1e-05, momentum=0.1, affine=True, track_running_stats=True)\n",
              "      (conv3): Conv2d(128, 512, kernel_size=(1, 1), stride=(1, 1), bias=False)\n",
              "      (bn3): BatchNorm2d(512, eps=1e-05, momentum=0.1, affine=True, track_running_stats=True)\n",
              "      (relu): ReLU(inplace)\n",
              "    )\n",
              "    (3): Bottleneck(\n",
              "      (conv1): Conv2d(512, 128, kernel_size=(1, 1), stride=(1, 1), bias=False)\n",
              "      (bn1): BatchNorm2d(128, eps=1e-05, momentum=0.1, affine=True, track_running_stats=True)\n",
              "      (conv2): Conv2d(128, 128, kernel_size=(3, 3), stride=(1, 1), padding=(1, 1), bias=False)\n",
              "      (bn2): BatchNorm2d(128, eps=1e-05, momentum=0.1, affine=True, track_running_stats=True)\n",
              "      (conv3): Conv2d(128, 512, kernel_size=(1, 1), stride=(1, 1), bias=False)\n",
              "      (bn3): BatchNorm2d(512, eps=1e-05, momentum=0.1, affine=True, track_running_stats=True)\n",
              "      (relu): ReLU(inplace)\n",
              "    )\n",
              "  )\n",
              "  (layer3): Sequential(\n",
              "    (0): Bottleneck(\n",
              "      (conv1): Conv2d(512, 256, kernel_size=(1, 1), stride=(1, 1), bias=False)\n",
              "      (bn1): BatchNorm2d(256, eps=1e-05, momentum=0.1, affine=True, track_running_stats=True)\n",
              "      (conv2): Conv2d(256, 256, kernel_size=(3, 3), stride=(2, 2), padding=(1, 1), bias=False)\n",
              "      (bn2): BatchNorm2d(256, eps=1e-05, momentum=0.1, affine=True, track_running_stats=True)\n",
              "      (conv3): Conv2d(256, 1024, kernel_size=(1, 1), stride=(1, 1), bias=False)\n",
              "      (bn3): BatchNorm2d(1024, eps=1e-05, momentum=0.1, affine=True, track_running_stats=True)\n",
              "      (relu): ReLU(inplace)\n",
              "      (downsample): Sequential(\n",
              "        (0): Conv2d(512, 1024, kernel_size=(1, 1), stride=(2, 2), bias=False)\n",
              "        (1): BatchNorm2d(1024, eps=1e-05, momentum=0.1, affine=True, track_running_stats=True)\n",
              "      )\n",
              "    )\n",
              "    (1): Bottleneck(\n",
              "      (conv1): Conv2d(1024, 256, kernel_size=(1, 1), stride=(1, 1), bias=False)\n",
              "      (bn1): BatchNorm2d(256, eps=1e-05, momentum=0.1, affine=True, track_running_stats=True)\n",
              "      (conv2): Conv2d(256, 256, kernel_size=(3, 3), stride=(1, 1), padding=(1, 1), bias=False)\n",
              "      (bn2): BatchNorm2d(256, eps=1e-05, momentum=0.1, affine=True, track_running_stats=True)\n",
              "      (conv3): Conv2d(256, 1024, kernel_size=(1, 1), stride=(1, 1), bias=False)\n",
              "      (bn3): BatchNorm2d(1024, eps=1e-05, momentum=0.1, affine=True, track_running_stats=True)\n",
              "      (relu): ReLU(inplace)\n",
              "    )\n",
              "    (2): Bottleneck(\n",
              "      (conv1): Conv2d(1024, 256, kernel_size=(1, 1), stride=(1, 1), bias=False)\n",
              "      (bn1): BatchNorm2d(256, eps=1e-05, momentum=0.1, affine=True, track_running_stats=True)\n",
              "      (conv2): Conv2d(256, 256, kernel_size=(3, 3), stride=(1, 1), padding=(1, 1), bias=False)\n",
              "      (bn2): BatchNorm2d(256, eps=1e-05, momentum=0.1, affine=True, track_running_stats=True)\n",
              "      (conv3): Conv2d(256, 1024, kernel_size=(1, 1), stride=(1, 1), bias=False)\n",
              "      (bn3): BatchNorm2d(1024, eps=1e-05, momentum=0.1, affine=True, track_running_stats=True)\n",
              "      (relu): ReLU(inplace)\n",
              "    )\n",
              "    (3): Bottleneck(\n",
              "      (conv1): Conv2d(1024, 256, kernel_size=(1, 1), stride=(1, 1), bias=False)\n",
              "      (bn1): BatchNorm2d(256, eps=1e-05, momentum=0.1, affine=True, track_running_stats=True)\n",
              "      (conv2): Conv2d(256, 256, kernel_size=(3, 3), stride=(1, 1), padding=(1, 1), bias=False)\n",
              "      (bn2): BatchNorm2d(256, eps=1e-05, momentum=0.1, affine=True, track_running_stats=True)\n",
              "      (conv3): Conv2d(256, 1024, kernel_size=(1, 1), stride=(1, 1), bias=False)\n",
              "      (bn3): BatchNorm2d(1024, eps=1e-05, momentum=0.1, affine=True, track_running_stats=True)\n",
              "      (relu): ReLU(inplace)\n",
              "    )\n",
              "    (4): Bottleneck(\n",
              "      (conv1): Conv2d(1024, 256, kernel_size=(1, 1), stride=(1, 1), bias=False)\n",
              "      (bn1): BatchNorm2d(256, eps=1e-05, momentum=0.1, affine=True, track_running_stats=True)\n",
              "      (conv2): Conv2d(256, 256, kernel_size=(3, 3), stride=(1, 1), padding=(1, 1), bias=False)\n",
              "      (bn2): BatchNorm2d(256, eps=1e-05, momentum=0.1, affine=True, track_running_stats=True)\n",
              "      (conv3): Conv2d(256, 1024, kernel_size=(1, 1), stride=(1, 1), bias=False)\n",
              "      (bn3): BatchNorm2d(1024, eps=1e-05, momentum=0.1, affine=True, track_running_stats=True)\n",
              "      (relu): ReLU(inplace)\n",
              "    )\n",
              "    (5): Bottleneck(\n",
              "      (conv1): Conv2d(1024, 256, kernel_size=(1, 1), stride=(1, 1), bias=False)\n",
              "      (bn1): BatchNorm2d(256, eps=1e-05, momentum=0.1, affine=True, track_running_stats=True)\n",
              "      (conv2): Conv2d(256, 256, kernel_size=(3, 3), stride=(1, 1), padding=(1, 1), bias=False)\n",
              "      (bn2): BatchNorm2d(256, eps=1e-05, momentum=0.1, affine=True, track_running_stats=True)\n",
              "      (conv3): Conv2d(256, 1024, kernel_size=(1, 1), stride=(1, 1), bias=False)\n",
              "      (bn3): BatchNorm2d(1024, eps=1e-05, momentum=0.1, affine=True, track_running_stats=True)\n",
              "      (relu): ReLU(inplace)\n",
              "    )\n",
              "  )\n",
              "  (layer4): Sequential(\n",
              "    (0): Bottleneck(\n",
              "      (conv1): Conv2d(1024, 512, kernel_size=(1, 1), stride=(1, 1), bias=False)\n",
              "      (bn1): BatchNorm2d(512, eps=1e-05, momentum=0.1, affine=True, track_running_stats=True)\n",
              "      (conv2): Conv2d(512, 512, kernel_size=(3, 3), stride=(2, 2), padding=(1, 1), bias=False)\n",
              "      (bn2): BatchNorm2d(512, eps=1e-05, momentum=0.1, affine=True, track_running_stats=True)\n",
              "      (conv3): Conv2d(512, 2048, kernel_size=(1, 1), stride=(1, 1), bias=False)\n",
              "      (bn3): BatchNorm2d(2048, eps=1e-05, momentum=0.1, affine=True, track_running_stats=True)\n",
              "      (relu): ReLU(inplace)\n",
              "      (downsample): Sequential(\n",
              "        (0): Conv2d(1024, 2048, kernel_size=(1, 1), stride=(2, 2), bias=False)\n",
              "        (1): BatchNorm2d(2048, eps=1e-05, momentum=0.1, affine=True, track_running_stats=True)\n",
              "      )\n",
              "    )\n",
              "    (1): Bottleneck(\n",
              "      (conv1): Conv2d(2048, 512, kernel_size=(1, 1), stride=(1, 1), bias=False)\n",
              "      (bn1): BatchNorm2d(512, eps=1e-05, momentum=0.1, affine=True, track_running_stats=True)\n",
              "      (conv2): Conv2d(512, 512, kernel_size=(3, 3), stride=(1, 1), padding=(1, 1), bias=False)\n",
              "      (bn2): BatchNorm2d(512, eps=1e-05, momentum=0.1, affine=True, track_running_stats=True)\n",
              "      (conv3): Conv2d(512, 2048, kernel_size=(1, 1), stride=(1, 1), bias=False)\n",
              "      (bn3): BatchNorm2d(2048, eps=1e-05, momentum=0.1, affine=True, track_running_stats=True)\n",
              "      (relu): ReLU(inplace)\n",
              "    )\n",
              "    (2): Bottleneck(\n",
              "      (conv1): Conv2d(2048, 512, kernel_size=(1, 1), stride=(1, 1), bias=False)\n",
              "      (bn1): BatchNorm2d(512, eps=1e-05, momentum=0.1, affine=True, track_running_stats=True)\n",
              "      (conv2): Conv2d(512, 512, kernel_size=(3, 3), stride=(1, 1), padding=(1, 1), bias=False)\n",
              "      (bn2): BatchNorm2d(512, eps=1e-05, momentum=0.1, affine=True, track_running_stats=True)\n",
              "      (conv3): Conv2d(512, 2048, kernel_size=(1, 1), stride=(1, 1), bias=False)\n",
              "      (bn3): BatchNorm2d(2048, eps=1e-05, momentum=0.1, affine=True, track_running_stats=True)\n",
              "      (relu): ReLU(inplace)\n",
              "    )\n",
              "  )\n",
              "  (avgpool): AvgPool2d(kernel_size=7, stride=1, padding=0)\n",
              "  (fc): Sequential(\n",
              "    (0): Linear(in_features=2048, out_features=1024, bias=True)\n",
              "    (1): ReLU()\n",
              "    (2): BatchNorm1d(1024, eps=1e-05, momentum=0.1, affine=True, track_running_stats=True)\n",
              "    (3): Dropout(p=0.5)\n",
              "    (4): Linear(in_features=1024, out_features=512, bias=True)\n",
              "    (5): ReLU()\n",
              "    (6): BatchNorm1d(512, eps=1e-05, momentum=0.1, affine=True, track_running_stats=True)\n",
              "    (7): Dropout(p=0.5)\n",
              "    (8): Linear(in_features=512, out_features=10, bias=True)\n",
              "  )\n",
              ")"
            ]
          },
          "metadata": {
            "tags": []
          },
          "execution_count": 13
        }
      ]
    },
    {
      "metadata": {
        "id": "_K_975NJIKrk",
        "colab_type": "code",
        "outputId": "f3593a1f-53bd-4c8d-de4f-8970f466a831",
        "colab": {
          "base_uri": "https://localhost:8080/",
          "height": 34
        }
      },
      "cell_type": "code",
      "source": [
        "batch_size=32\n",
        "transform = transforms.Compose([transforms.Resize((224,224)) , \n",
        "                               transforms.ToTensor(),\n",
        "                               transforms.Normalize([0.485, 0.456, 0.406], [0.229, 0.224, 0.225])\n",
        "                               ])\n",
        "myDataset = torchvision.datasets.ImageFolder(\"train\" , transform = transform)\n",
        "valid_no  = int(0.2 * len(myDataset))\n",
        "# so divide the data into trainset and testset\n",
        "trainSet,testSet = torch.utils.data.random_split(myDataset,(len(myDataset)-valid_no,valid_no))\n",
        "print(f\"len of trainSet {len(trainSet)} , len of testSet {len(testSet)}\")\n",
        "trainLoader  = DataLoader(trainSet , batch_size=batch_size ,shuffle=True) \n",
        "testLoader  = DataLoader(testSet , batch_size=batch_size ,shuffle=True)\n",
        "data_loader={\"train\":trainLoader , \"val\":testLoader}\n"
      ],
      "execution_count": 15,
      "outputs": [
        {
          "output_type": "stream",
          "text": [
            "len of trainSet 4724 , len of testSet 1180\n"
          ],
          "name": "stdout"
        }
      ]
    },
    {
      "metadata": {
        "id": "0j9z2QR8Jgva",
        "colab_type": "code",
        "colab": {}
      },
      "cell_type": "code",
      "source": [
        "import torch.optim as optim\n",
        "from torch.optim import lr_scheduler\n",
        "\n",
        "device = torch.device(\"cuda\" if torch.cuda.is_available() else \"cpu\")\n",
        "model = model.to(device)\n",
        "\n",
        "# specify loss function (categorical cross-entropy)\n",
        "criterion = nn.CrossEntropyLoss()\n",
        "\n",
        "# specify optimizer\n",
        "optimizer = optim.Adam(model.parameters(), lr=0.01)\n",
        "sgdr_partial = lr_scheduler.CosineAnnealingLR(optimizer, T_max=5, eta_min=0.005)"
      ],
      "execution_count": 0,
      "outputs": []
    },
    {
      "metadata": {
        "id": "Uqcq3wJEKAZk",
        "colab_type": "code",
        "colab": {}
      },
      "cell_type": "code",
      "source": [
        "from tqdm import trange\n",
        "\n",
        "def train(model , data_loader , criterion , optimizer ,scheduler, num_epochs=5):\n",
        "\n",
        "  for epoch in trange(num_epochs,desc=\"Epochs\"):\n",
        "    result = []\n",
        "    for phase in ['train', 'val']:\n",
        "      if phase==\"train\":     # put the model in training mode\n",
        "        model.train()\n",
        "        scheduler.step()\n",
        "      else:     # put the model in validation mode\n",
        "        model.eval()\n",
        "       \n",
        "      # keep track of training and validation loss\n",
        "      running_loss = 0.0\n",
        "      running_corrects = 0  \n",
        "      \n",
        "      for data , target in data_loader[phase]:\n",
        "        #load the data and target to respective device\n",
        "        data , target = data.to(device)  , target.to(device)\n",
        "\n",
        "        with torch.set_grad_enabled(phase==\"train\"):\n",
        "          #feed the input\n",
        "          output = model(data)\n",
        "          #calculate the loss\n",
        "          loss = criterion(output,target)\n",
        "          preds = torch.argmax(output,1)\n",
        "\n",
        "          if phase==\"train\"  :\n",
        "            # backward pass: compute gradient of the loss with respect to model parameters \n",
        "            loss.backward()\n",
        "            # update the model parameters\n",
        "            optimizer.step()\n",
        "            # zero the grad to stop it from accumulating\n",
        "            optimizer.zero_grad()\n",
        "\n",
        "\n",
        "        # statistics\n",
        "        running_loss += loss.item() * data.size(0)\n",
        "        running_corrects += torch.sum(preds == target.data)\n",
        "        \n",
        "        \n",
        "      epoch_loss = running_loss / len(data_loader[phase].dataset)\n",
        "      epoch_acc = running_corrects.double() / len(data_loader[phase].dataset)\n",
        "\n",
        "      result.append('{} Loss: {:.4f} Acc: {:.4f}'.format(phase, epoch_loss, epoch_acc))\n",
        "    print(result)\n",
        "      \n",
        "  "
      ],
      "execution_count": 0,
      "outputs": []
    },
    {
      "metadata": {
        "id": "V6RTxbvIKmT7",
        "colab_type": "code",
        "outputId": "45827e9b-e004-446f-bfa3-516e564ca561",
        "colab": {
          "base_uri": "https://localhost:8080/",
          "height": 139
        }
      },
      "cell_type": "code",
      "source": [
        "train(model,data_loader , criterion, optimizer,sgdr_partial)"
      ],
      "execution_count": 20,
      "outputs": [
        {
          "output_type": "display_data",
          "data": {
            "application/vnd.jupyter.widget-view+json": {
              "model_id": "484a3e6268cb406a87edbd664f6dbace",
              "version_minor": 0,
              "version_major": 2
            },
            "text/plain": [
              "HBox(children=(IntProgress(value=0, description='Epochs', max=5, style=ProgressStyle(description_width='initia…"
            ]
          },
          "metadata": {
            "tags": []
          }
        },
        {
          "output_type": "stream",
          "text": [
            "['train Loss: 0.9149 Acc: 0.7369', 'val Loss: 0.5554 Acc: 0.8288']\n",
            "['train Loss: 0.6357 Acc: 0.8124', 'val Loss: 0.5376 Acc: 0.8483']\n",
            "['train Loss: 0.5523 Acc: 0.8304', 'val Loss: 0.5748 Acc: 0.8568']\n",
            "['train Loss: 0.4800 Acc: 0.8537', 'val Loss: 0.5115 Acc: 0.8585']\n",
            "['train Loss: 0.4186 Acc: 0.8719', 'val Loss: 0.5386 Acc: 0.8661']\n",
            "\n"
          ],
          "name": "stdout"
        }
      ]
    },
    {
      "metadata": {
        "id": "Rek9McDgUw67",
        "colab_type": "text"
      },
      "cell_type": "markdown",
      "source": [
        "## Per Class Accuracy"
      ]
    },
    {
      "metadata": {
        "id": "_9MthSe-aQ1g",
        "colab_type": "code",
        "colab": {
          "base_uri": "https://localhost:8080/",
          "height": 191
        },
        "outputId": "ebd201b3-0c7e-49a9-ac50-7a600a5bf3ff"
      },
      "cell_type": "code",
      "source": [
        "\n",
        "def perClassAccuracy(model ,classes):\n",
        "  class_correct = np.zeros(len(classes) ,dtype =np.int64 )\n",
        "  class_total = np.zeros_like(class_correct,dtype =np.int64 )\n",
        "  model.eval()\n",
        "  for data ,target in data_loader[\"val\"]:\n",
        "    data,target =data.to(device) , target.to(device)\n",
        "    with torch.set_grad_enabled(False):\n",
        "      output =model(data)\n",
        "      preds = torch.argmax(output,1)\n",
        "      for prediction , label in zip(preds , target.data):\n",
        "        if prediction == label:\n",
        "          class_correct[prediction]+=1\n",
        "        class_total[label]+=1\n",
        "  per = np.round((100*class_correct/class_total) ,4)\n",
        "  out = \"\\n\".join([f\"{name} :- {acc} %\" for name ,acc in zip(classes.keys() , per)])\n",
        "  return out\n",
        "\n",
        "print(perClassAccuracy(model , birdsPerClassCount))\n",
        "\n",
        "   "
      ],
      "execution_count": 42,
      "outputs": [
        {
          "output_type": "stream",
          "text": [
            "MrsGould’sSunbird :- 86.8852 %\n",
            "parrot :- 89.2857 %\n",
            "IndianPitta :- 92.8 %\n",
            "SarusCrane :- 78.7037 %\n",
            "OrientalDwarfKingfisher :- 85.0575 %\n",
            "peacock :- 64.8649 %\n",
            "AsianParadiseFlycatcher :- 92.7928 %\n",
            "SatyrTragopan :- 85.9649 %\n",
            "RedHeadedTrogon :- 92.9078 %\n",
            "HimalayanMonal :- 91.9463 %\n"
          ],
          "name": "stdout"
        }
      ]
    },
    {
      "metadata": {
        "id": "m9bkTpFRVupg",
        "colab_type": "text"
      },
      "cell_type": "markdown",
      "source": [
        "## Visualizing the wrong prediction and where exactly model is confused"
      ]
    },
    {
      "metadata": {
        "id": "8Ym8fH7OSaD8",
        "colab_type": "code",
        "colab": {}
      },
      "cell_type": "code",
      "source": [
        "def allwrong_prediction(classes ,model):\n",
        "  test_array =[]\n",
        "  classes  = list(classes.keys())\n",
        "  model.eval()\n",
        "  for data ,target in data_loader[\"val\"]:\n",
        "    data,target =data.to(device) , target.to(device)\n",
        "    with torch.set_grad_enabled(False):\n",
        "      output =model(data)\n",
        "      preds = torch.argmax(output,1)\n",
        "      for prediction , label in zip(preds , target.data):\n",
        "        if prediction != label:\n",
        "            test_array.append([data ,classes[prediction] ,classes[label]])\n",
        "  return test_array\n",
        "\n",
        "s = allwrong_prediction(birdsPerClassCount , model)\n"
      ],
      "execution_count": 0,
      "outputs": []
    },
    {
      "metadata": {
        "id": "eTnKpR4KaCZV",
        "colab_type": "text"
      },
      "cell_type": "markdown",
      "source": [
        "### Checking what and all wrong predictions model is making  by visualizing this graph it's very clear model is confused peacock"
      ]
    },
    {
      "metadata": {
        "id": "l2Ssz5wJYLKW",
        "colab_type": "code",
        "colab": {
          "base_uri": "https://localhost:8080/",
          "height": 723
        },
        "outputId": "ff7aaad9-d144-4400-893b-e413fcbf38b2"
      },
      "cell_type": "code",
      "source": [
        "import pandas as pd\n",
        "s_d = [(y,z) for x ,y,z in s]\n",
        "df = pd.DataFrame(s_d)\n",
        "gr = df.groupby([0,1])\n",
        "gr.apply(len).unstack().plot(kind='bar', stacked=True, figsize=(20,10))\n"
      ],
      "execution_count": 55,
      "outputs": [
        {
          "output_type": "execute_result",
          "data": {
            "text/plain": [
              "<matplotlib.axes._subplots.AxesSubplot at 0x7f9f666e5630>"
            ]
          },
          "metadata": {
            "tags": []
          },
          "execution_count": 55
        },
        {
          "output_type": "display_data",
          "data": {
            "image/png": "[encoded data removed]",
            "text/plain": [
              "<matplotlib.figure.Figure at 0x7f9f68057da0>"
            ]
          },
          "metadata": {
            "tags": []
          }
        }
      ]
    },
    {
      "metadata": {
        "id": "2mCel_rMafqQ",
        "colab_type": "text"
      },
      "cell_type": "markdown",
      "source": [
        "## Saving the Model\n",
        "\n"
      ]
    },
    {
      "metadata": {
        "id": "NRkacNVIaf0d",
        "colab_type": "text"
      },
      "cell_type": "markdown",
      "source": [
        "When it comes to saving and loading models, there are three core functions to be familiar with:\n",
        "\n",
        "    1. torch.save: Saves a serialized object to disk. This function uses Python’s pickle utility for serialization. Models, tensors, and dictionaries of all kinds of objects can be saved using this function.\n",
        "    \n",
        "    2. torch.load: Uses pickle’s unpickling facilities to deserialize pickled object files to memory. This function also facilitates the device to load the data into (see Saving & Loading Model Across Devices).\n",
        "    \n",
        "    3. torch.nn.Module.load_state_dict: Loads a model’s parameter dictionary using a deserialized state_dict. For more information on state_dict, see What is a state_dict?.\n",
        "\n",
        "There are many ways to save the model but we are gonna see the most recommended and safe here we are going to save the model parameters and while loading just load the weights\n",
        "\n",
        "### Saving & Loading a General Checkpoint for Inference and/or Resuming Training"
      ]
    },
    {
      "metadata": {
        "id": "uvwZHbbHafxz",
        "colab_type": "code",
        "colab": {}
      },
      "cell_type": "code",
      "source": [
        "# Save:\n",
        "def createCheckpoint(filename=Path(\"./LatestCheckpoint.pt\")):\n",
        "  checkpoint = {\n",
        "              'epoch': 5,\n",
        "              'model_state_dict': model.state_dict(),\n",
        "              'optimizer_state_dict': optimizer.state_dict(),\n",
        "              \"batch_size\":batch_size,\n",
        "  } # save all important stuff\n",
        "  torch.save(checkpoint , filename)\n",
        "createCheckpoint()\n"
      ],
      "execution_count": 0,
      "outputs": []
    },
    {
      "metadata": {
        "id": "Phl_6nIuafuv",
        "colab_type": "code",
        "colab": {
          "base_uri": "https://localhost:8080/",
          "height": 34
        },
        "outputId": "33b5f678-d99e-46ae-963c-da0a27d5cfe1"
      },
      "cell_type": "code",
      "source": [
        "# Load\n",
        "'''\n",
        "First Intialize the model and then just load it\n",
        "model = TheModelClass(*args, **kwargs)\n",
        "optimizer = TheOptimizerClass(*args, **kwargs)\n",
        "\n",
        "'''\n",
        "\n",
        "checkpoint = torch.load(Path(\"./LatestCheckpoint.pt\"))\n",
        "model.load_state_dict(checkpoint['model_state_dict'])\n",
        "optimizer.load_state_dict(checkpoint['optimizer_state_dict'])\n",
        "epoch = checkpoint['epoch']\n",
        "batch_size = checkpoint['batch_size']\n",
        "\n",
        "model.eval() ## or model.train()\n",
        "\"done\""
      ],
      "execution_count": 64,
      "outputs": [
        {
          "output_type": "execute_result",
          "data": {
            "text/plain": [
              "'done'"
            ]
          },
          "metadata": {
            "tags": []
          },
          "execution_count": 64
        }
      ]
    },
    {
      "metadata": {
        "id": "1lVSjAQ3afm7",
        "colab_type": "text"
      },
      "cell_type": "markdown",
      "source": [
        "When saving a general checkpoint, to be used for either inference or resuming training, you must save more than just the model’s state_dict. It is important to also save the optimizer’s state_dict, as this contains buffers and parameters that are updated as the model trains. Other items that you may want to save are the epoch you left off on, the latest recorded training loss, external torch.nn.Embedding layers, etc.\n",
        "\n",
        "To save multiple components, organize them in a dictionary and use torch.save() to serialize the dictionary. A common PyTorch convention is to save these checkpoints using the .tar file extension.\n",
        "\n",
        "To load the items, first initialize the model and optimizer, then load the dictionary locally using torch.load(). From here, you can easily access the saved items by simply querying the dictionary as you would expect.\n",
        "\n",
        "Remember that you must call model.eval() to set dropout and batch normalization layers to evaluation mode before running inference. Failing to do this will yield inconsistent inference results. If you wish to resuming training, call model.train() to ensure these layers are in training mode."
      ]
    },
    {
      "metadata": {
        "id": "lHr-4E238nXW",
        "colab_type": "text"
      },
      "cell_type": "markdown",
      "source": [
        "# Additional Resources\n",
        "\n",
        "https://cs231n.github.io/transfer-learning/\n",
        "\n",
        "https://pytorch.org/tutorials/beginner/saving_loading_models.html"
      ]
    },
    {
      "metadata": {
        "id": "wfoFtmRYW2I-",
        "colab_type": "code",
        "colab": {}
      },
      "cell_type": "code",
      "source": [
        ""
      ],
      "execution_count": 0,
      "outputs": []
    }
  ]
}